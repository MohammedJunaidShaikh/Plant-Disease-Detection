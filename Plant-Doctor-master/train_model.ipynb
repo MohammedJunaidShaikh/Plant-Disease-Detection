{
 "cells": [
  {
   "cell_type": "code",
   "execution_count": 1,
   "metadata": {},
   "outputs": [],
   "source": [
    "import numpy as np\n",
    "import scipy.misc\n",
    "import keras\n",
    "from keras_preprocessing.image import ImageDataGenerator\n",
    "from keras.utils import np_utils\n",
    "from keras.models import Sequential\n",
    "from keras.layers.convolutional import Conv2D\n",
    "from keras.layers.convolutional import MaxPooling2D\n",
    "from keras.layers import Activation, Dropout, Flatten, Dense\n",
    "import matplotlib.pyplot as plt\n",
    "from keras import backend as K\n",
    "import cv2\n",
    "import os"
   ]
  },
  {
   "cell_type": "code",
   "execution_count": 2,
   "metadata": {},
   "outputs": [],
   "source": [
    "np.random.seed(1)\n",
    "names = [\"Apple Scab\", \"Apple Black Rot\", \"Apple Cedar Apple Rust\", \"Apple Healthy\", \"Blueberry Healthy\",\n",
    "         \"Cherry Powdery Mildew\", \"Cherry Healthy\", \"Corn Cercospora Gray Leaf Spot\", \"Corn Common Rust\",\n",
    "         \"Corn Northern Leaf Blight\", \"Corn Healthy\", \"Grape Black Rot\", \"Grape Esca\", \"Grape Leaf Blight\",\n",
    "         \"Grape Healthy\", \"Orange Haunglongbing\", \"Peach Bacterial Spot\", \"Peach Healthy\", \"Bell Pepper Bacterial Spot\",\n",
    "         \"Bell Pepper Healthy\", \"Potato Early Blight\", \"Potato Late Blight\", \"Potato Healthy\", \"Raspberry Healthy\",\n",
    "         \"Soybean Healthy\", \"Squash Powdery Mildew\", \"Strawberry Leaf Scorch\", \"Strawberry Healthy\",\n",
    "         \"Tomato Bacterial Spot\", \"Tomato Early Blight\", \"Tomato Late Blight\", \"Tomato Leaf Mold\",\n",
    "         \"Tomato Septoria Leaf Spot\", \"Tomato Spider Mites\", \"Tomato Target Spot\", \"Tomato Yellow Leaf Curl Virus\",\n",
    "         \"Tomato Mosaic Virus\", \"Tomato Healthy\"]\n"
   ]
  },
  {
   "cell_type": "code",
   "execution_count": 3,
   "metadata": {},
   "outputs": [],
   "source": [
    "base = \"E:\\\\PycharmProjects\\\\Chameleon\\\\data\\\\color\\\\\"\n"
   ]
  },
  {
   "cell_type": "code",
   "execution_count": 4,
   "metadata": {},
   "outputs": [
    {
     "ename": "FileNotFoundError",
     "evalue": "[WinError 3] The system cannot find the path specified: 'E:\\\\PycharmProjects\\\\Chameleon\\\\data\\\\color\\\\'",
     "output_type": "error",
     "traceback": [
      "\u001b[1;31m---------------------------------------------------------------------------\u001b[0m",
      "\u001b[1;31mFileNotFoundError\u001b[0m                         Traceback (most recent call last)",
      "\u001b[1;32m~\\AppData\\Local\\Temp/ipykernel_1744/1755621478.py\u001b[0m in \u001b[0;36m<module>\u001b[1;34m\u001b[0m\n\u001b[0;32m      2\u001b[0m \u001b[0mlabels\u001b[0m \u001b[1;33m=\u001b[0m \u001b[1;33m[\u001b[0m\u001b[1;33m]\u001b[0m\u001b[1;33m\u001b[0m\u001b[1;33m\u001b[0m\u001b[0m\n\u001b[0;32m      3\u001b[0m \u001b[0mi\u001b[0m \u001b[1;33m=\u001b[0m \u001b[1;36m0\u001b[0m\u001b[1;33m\u001b[0m\u001b[1;33m\u001b[0m\u001b[0m\n\u001b[1;32m----> 4\u001b[1;33m \u001b[1;32mfor\u001b[0m \u001b[0mfilename1\u001b[0m \u001b[1;32min\u001b[0m \u001b[0mos\u001b[0m\u001b[1;33m.\u001b[0m\u001b[0mlistdir\u001b[0m\u001b[1;33m(\u001b[0m\u001b[0mbase\u001b[0m\u001b[1;33m)\u001b[0m\u001b[1;33m:\u001b[0m\u001b[1;33m\u001b[0m\u001b[1;33m\u001b[0m\u001b[0m\n\u001b[0m\u001b[0;32m      5\u001b[0m     \u001b[0mcount\u001b[0m \u001b[1;33m=\u001b[0m \u001b[1;36m0\u001b[0m\u001b[1;33m\u001b[0m\u001b[1;33m\u001b[0m\u001b[0m\n\u001b[0;32m      6\u001b[0m     \u001b[1;32mfor\u001b[0m \u001b[0mfilename\u001b[0m \u001b[1;32min\u001b[0m \u001b[0mos\u001b[0m\u001b[1;33m.\u001b[0m\u001b[0mlistdir\u001b[0m\u001b[1;33m(\u001b[0m\u001b[0mbase\u001b[0m \u001b[1;33m+\u001b[0m \u001b[0mfilename1\u001b[0m\u001b[1;33m)\u001b[0m\u001b[1;33m:\u001b[0m\u001b[1;33m\u001b[0m\u001b[1;33m\u001b[0m\u001b[0m\n",
      "\u001b[1;31mFileNotFoundError\u001b[0m: [WinError 3] The system cannot find the path specified: 'E:\\\\PycharmProjects\\\\Chameleon\\\\data\\\\color\\\\'"
     ]
    }
   ],
   "source": [
    "images = []\n",
    "labels = []\n",
    "i = 0\n",
    "for filename1 in os.listdir(base):\n",
    "    count = 0\n",
    "    for filename in os.listdir(base + filename1):\n",
    "        img1 = cv2.imread(base + filename1 + \"\\\\\" + filename)\n",
    "        img1 = img1.transpose((-1, 0, 1))\n",
    "        if img1 is not None:\n",
    "            labels.append(i)\n",
    "            images.append(img1)\n",
    "            count = count + 1\n",
    "        if count == 256:\n",
    "            break\n",
    "    if i % 5 == 0:\n",
    "        print(i)\n",
    "    i = i + 1\n"
   ]
  },
  {
   "cell_type": "code",
   "execution_count": 16,
   "metadata": {},
   "outputs": [],
   "source": [
    "X_train = np.array(images)\n",
    "y_train = np.array(labels)\n",
    "y_train = y_train.reshape(np.shape(X_train)[0], 1)\n",
    "p = np.random.permutation(np.shape(X_train)[0])\n",
    "X_train = X_train[p]\n",
    "y_train = y_train[p]\n",
    "y_train = np_utils.to_categorical(y_train)"
   ]
  },
  {
   "cell_type": "code",
   "execution_count": 2,
   "metadata": {},
   "outputs": [],
   "source": [
    "print(np.shape(X_train))\n",
    "print(y_train[0])"
   ]
  },
  {
   "cell_type": "code",
   "execution_count": 2,
   "metadata": {},
   "outputs": [],
   "source": [
    "num_classes = 38\n",
    "K.set_image_dim_ordering('th')\n",
    "\n",
    "\n",
    "def train():\n",
    "    model = Sequential()\n",
    "    model.add(Conv2D(32, (3, 3), input_shape=(3, 256, 256), activation='relu'))\n",
    "    model.add(MaxPooling2D(pool_size=(2, 2)))\n",
    "    model.add(Conv2D(32, (3, 3), input_shape=(3, 256, 256)))\n",
    "    model.add(Activation('relu'))\n",
    "    model.add(MaxPooling2D(pool_size=(2, 2)))\n",
    "\n",
    "    model.add(Conv2D(64, (3, 3)))\n",
    "    model.add(Activation('relu'))\n",
    "    model.add(MaxPooling2D(pool_size=(2, 2)))\n",
    "    model.add(Flatten())  # this converts our 3D feature maps to 1D feature vectors\n",
    "    model.add(Dense(128))\n",
    "    model.add(Activation('relu'))\n",
    "    model.add(Dropout(0.5))\n",
    "    model.add(Dense(num_classes))\n",
    "    model.add(Activation('softmax'))\n",
    "    model.compile(loss='categorical_crossentropy', optimizer='rmsprop', metrics=['accuracy'])\n",
    "    return model\n",
    "\n",
    "\n",
    "trained_model = train()\n"
   ]
  },
  {
   "cell_type": "code",
   "execution_count": 2,
   "metadata": {},
   "outputs": [],
   "source": [
    "trained_model.fit(\n",
    "    X_train, y_train,\n",
    "    epochs=50, batch_size=64)\n",
    "trained_model.save_weights('first_try.h5')\n"
   ]
  },
  {
   "cell_type": "code",
   "execution_count": 2,
   "metadata": {},
   "outputs": [],
   "source": [
    "img = cv2.imread(\"E:\\\\PycharmProjects\\\\Chameleon\\\\data\\\\test_set\\\\t1.JPG\")\n",
    "img = cv2.resize(img, (256, 256), interpolation=cv2.INTER_CUBIC)\n",
    "plt.imshow(img)\n",
    "plt.show()\n",
    "img = img.transpose((-1, 0, 1))\n",
    "X_test = [img, img]"
   ]
  },
  {
   "cell_type": "code",
   "execution_count": 3,
   "metadata": {
    "collapsed": true
   },
   "outputs": [],
   "source": [
    "y_test = trained_model.predict_classes(np.array(X_test))\n",
    "print(y_test)"
   ]
  },
  {
   "cell_type": "code",
   "execution_count": 151,
   "metadata": {},
   "outputs": [
    {
     "name": "stdout",
     "output_type": "stream",
     "text": [
      "713\n",
      "713\n"
     ]
    }
   ],
   "source": [
    "im = []\n",
    "for i in range(3, 4):\n",
    "    for filename in os.listdir(base + str(i)):\n",
    "        img1 = cv2.imread(base + str(i) + \"\\\\\" + filename)\n",
    "        img1 = cv2.resize(img1, (256, 256), interpolation=cv2.INTER_CUBIC)\n",
    "        if img1 is not None:\n",
    "            labels.append(i)\n",
    "            im.append(img1)\n",
    "im = np.reshape(im, (np.shape(im)[0], 3, 256, 256))\n",
    "y_test = model.predict_classes(im)\n",
    "count = len(im)\n",
    "for i in range(len(y_test)):\n",
    "    if y_test[i] == 3:\n",
    "        count = count - 1\n",
    "print(count)\n",
    "print(len(y_test))\n"
   ]
  },
  {
   "cell_type": "code",
   "execution_count": 3,
   "metadata": {},
   "outputs": [],
   "source": []
  },
  {
   "cell_type": "code",
   "execution_count": null,
   "metadata": {},
   "outputs": [
    {
     "name": "stdout",
     "output_type": "stream",
     "text": [
      "Corn Northern Leaf Blight\n",
      "About\n",
      "Northern corn leaf blight is a foliar disease of corn caused by Exserohilum turcicum, the anamorph of the ascomycete Setosphaeria turcica. With its characteristic cigar-shaped lesions, this disease can cause significant yield loss in susceptible corn hybrids.\n",
      "Treatment\n",
      "Growers can manage NLB by selecting resistant hybrids, reducing previous corn residue, timely planting, and in high-risk fields with recent NLB outbreaks, application of fungicides. To determine level of risk, growers are encouraged to routinely scout fields for presence of NLB and other leaf diseases. Scouting is also important to identify any stalk quality problems that often result from leaf diseases.\n"
     ]
    }
   ],
   "source": [
    "import requests\n",
    "\n",
    "p = np.random.permutation(38)\n",
    "print(names[p[0]])\n",
    "url = \"https://nagarro.herokuapp.com/\" + names[p[0]]\n",
    "response = requests.post(url, headers={\"Content-Type\": \"application/json\"})\n",
    "about = response.json()['value']['about']\n",
    "print(\"About\")\n",
    "print(about)\n",
    "cure = response.json()['value']['cure']\n",
    "print(\"Treatment\")\n",
    "print(cure)\n"
   ]
  },
  {
   "cell_type": "code",
   "execution_count": 49,
   "metadata": {},
   "outputs": [],
   "source": []
  },
  {
   "cell_type": "code",
   "execution_count": null,
   "metadata": {},
   "outputs": [],
   "source": []
  }
 ],
 "metadata": {
  "kernelspec": {
   "display_name": "Python 3 (ipykernel)",
   "language": "python",
   "name": "python3"
  },
  "language_info": {
   "codemirror_mode": {
    "name": "ipython",
    "version": 3
   },
   "file_extension": ".py",
   "mimetype": "text/x-python",
   "name": "python",
   "nbconvert_exporter": "python",
   "pygments_lexer": "ipython3",
   "version": "3.9.7"
  }
 },
 "nbformat": 4,
 "nbformat_minor": 1
}
